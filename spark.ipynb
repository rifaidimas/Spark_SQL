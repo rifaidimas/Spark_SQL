{
 "cells": [
  {
   "cell_type": "code",
   "execution_count": 2,
   "metadata": {},
   "outputs": [],
   "source": [
    "import pyspark\n",
    "from pyspark.sql import SparkSession\n",
    "from pyspark.sql.functions import col, max, count\n",
    "\n",
    "spark = SparkSession.builder \\\n",
    "    .master(\"local[*]\") \\\n",
    "    .appName('spark') \\\n",
    "    .getOrCreate()"
   ]
  },
  {
   "attachments": {},
   "cell_type": "markdown",
   "metadata": {},
   "source": [
    "# Read Data Green Taxi and Yellow Taxi"
   ]
  },
  {
   "cell_type": "code",
   "execution_count": 4,
   "metadata": {},
   "outputs": [],
   "source": [
    "df_green = spark.read.parquet('green_tripdata_2021-02.parquet')\n",
    "df_yellow = spark.read.parquet('yellow_tripdata_2021-02.parquet')\n",
    "df_fhvhv = spark.read.parquet('fhvhv_tripdata_2021-02.parquet')"
   ]
  },
  {
   "cell_type": "code",
   "execution_count": 5,
   "metadata": {},
   "outputs": [
    {
     "name": "stdout",
     "output_type": "stream",
     "text": [
      "root\n",
      " |-- VendorID: long (nullable = true)\n",
      " |-- tpep_pickup_datetime: timestamp (nullable = true)\n",
      " |-- tpep_dropoff_datetime: timestamp (nullable = true)\n",
      " |-- passenger_count: double (nullable = true)\n",
      " |-- trip_distance: double (nullable = true)\n",
      " |-- RatecodeID: double (nullable = true)\n",
      " |-- store_and_fwd_flag: string (nullable = true)\n",
      " |-- PULocationID: long (nullable = true)\n",
      " |-- DOLocationID: long (nullable = true)\n",
      " |-- payment_type: long (nullable = true)\n",
      " |-- fare_amount: double (nullable = true)\n",
      " |-- extra: double (nullable = true)\n",
      " |-- mta_tax: double (nullable = true)\n",
      " |-- tip_amount: double (nullable = true)\n",
      " |-- tolls_amount: double (nullable = true)\n",
      " |-- improvement_surcharge: double (nullable = true)\n",
      " |-- total_amount: double (nullable = true)\n",
      " |-- congestion_surcharge: double (nullable = true)\n",
      " |-- airport_fee: double (nullable = true)\n",
      "\n"
     ]
    }
   ],
   "source": [
    "df_yellow.printSchema()"
   ]
  },
  {
   "cell_type": "code",
   "execution_count": 7,
   "metadata": {},
   "outputs": [
    {
     "name": "stdout",
     "output_type": "stream",
     "text": [
      "root\n",
      " |-- VendorID: long (nullable = true)\n",
      " |-- lpep_pickup_datetime: timestamp (nullable = true)\n",
      " |-- lpep_dropoff_datetime: timestamp (nullable = true)\n",
      " |-- store_and_fwd_flag: string (nullable = true)\n",
      " |-- RatecodeID: double (nullable = true)\n",
      " |-- PULocationID: long (nullable = true)\n",
      " |-- DOLocationID: long (nullable = true)\n",
      " |-- passenger_count: double (nullable = true)\n",
      " |-- trip_distance: double (nullable = true)\n",
      " |-- fare_amount: double (nullable = true)\n",
      " |-- extra: double (nullable = true)\n",
      " |-- mta_tax: double (nullable = true)\n",
      " |-- tip_amount: double (nullable = true)\n",
      " |-- tolls_amount: double (nullable = true)\n",
      " |-- ehail_fee: integer (nullable = true)\n",
      " |-- improvement_surcharge: double (nullable = true)\n",
      " |-- total_amount: double (nullable = true)\n",
      " |-- payment_type: double (nullable = true)\n",
      " |-- trip_type: double (nullable = true)\n",
      " |-- congestion_surcharge: double (nullable = true)\n",
      "\n"
     ]
    }
   ],
   "source": [
    "df_green.printSchema()"
   ]
  },
  {
   "cell_type": "code",
   "execution_count": 8,
   "metadata": {},
   "outputs": [
    {
     "name": "stdout",
     "output_type": "stream",
     "text": [
      "root\n",
      " |-- hvfhs_license_num: string (nullable = true)\n",
      " |-- dispatching_base_num: string (nullable = true)\n",
      " |-- originating_base_num: string (nullable = true)\n",
      " |-- request_datetime: timestamp (nullable = true)\n",
      " |-- on_scene_datetime: timestamp (nullable = true)\n",
      " |-- pickup_datetime: timestamp (nullable = true)\n",
      " |-- dropoff_datetime: timestamp (nullable = true)\n",
      " |-- PULocationID: long (nullable = true)\n",
      " |-- DOLocationID: long (nullable = true)\n",
      " |-- trip_miles: double (nullable = true)\n",
      " |-- trip_time: long (nullable = true)\n",
      " |-- base_passenger_fare: double (nullable = true)\n",
      " |-- tolls: double (nullable = true)\n",
      " |-- bcf: double (nullable = true)\n",
      " |-- sales_tax: double (nullable = true)\n",
      " |-- congestion_surcharge: double (nullable = true)\n",
      " |-- airport_fee: double (nullable = true)\n",
      " |-- tips: double (nullable = true)\n",
      " |-- driver_pay: double (nullable = true)\n",
      " |-- shared_request_flag: string (nullable = true)\n",
      " |-- shared_match_flag: string (nullable = true)\n",
      " |-- access_a_ride_flag: string (nullable = true)\n",
      " |-- wav_request_flag: string (nullable = true)\n",
      " |-- wav_match_flag: string (nullable = true)\n",
      "\n"
     ]
    }
   ],
   "source": [
    "df_fhvhv.printSchema()"
   ]
  },
  {
   "cell_type": "code",
   "execution_count": 9,
   "metadata": {},
   "outputs": [
    {
     "name": "stdout",
     "output_type": "stream",
     "text": [
      "+--------+--------------------+---------------------+---------------+-------------+----------+------------------+------------+------------+------------+-----------+-----+-------+----------+------------+---------------------+------------+--------------------+-----------+\n",
      "|VendorID|tpep_pickup_datetime|tpep_dropoff_datetime|passenger_count|trip_distance|RatecodeID|store_and_fwd_flag|PULocationID|DOLocationID|payment_type|fare_amount|extra|mta_tax|tip_amount|tolls_amount|improvement_surcharge|total_amount|congestion_surcharge|airport_fee|\n",
      "+--------+--------------------+---------------------+---------------+-------------+----------+------------------+------------+------------+------------+-----------+-----+-------+----------+------------+---------------------+------------+--------------------+-----------+\n",
      "|       1| 2021-02-01 07:40:47|  2021-02-01 07:48:28|            1.0|          2.3|       1.0|                 N|         141|         226|           2|        8.5|  3.0|    0.5|       0.0|         0.0|                  0.3|        12.3|                 2.5|       null|\n",
      "|       1| 2021-02-01 07:07:44|  2021-02-01 07:20:31|            1.0|          1.6|       1.0|                 N|          43|         263|           2|        9.5|  3.0|    0.5|       0.0|         0.0|                  0.3|        13.3|                 0.0|       null|\n",
      "|       1| 2021-02-01 07:59:36|  2021-02-01 08:24:13|            1.0|          5.3|       1.0|                 N|         114|         263|           2|       19.0|  3.0|    0.5|       0.0|         0.0|                  0.3|        22.8|                 2.5|       null|\n",
      "|       2| 2021-02-01 07:03:26|  2021-02-01 07:16:32|            1.0|         2.79|       1.0|                 N|         236|         229|           1|       11.0|  0.5|    0.5|      2.96|         0.0|                  0.3|       17.76|                 2.5|       null|\n",
      "|       2| 2021-02-01 07:20:20|  2021-02-01 07:24:03|            2.0|         0.64|       1.0|                 N|         229|         140|           1|        4.5|  0.5|    0.5|      1.66|         0.0|                  0.3|        9.96|                 2.5|       null|\n",
      "|       2| 2021-02-01 07:55:03|  2021-02-01 08:03:39|            1.0|         1.97|       1.0|                 N|         238|          75|           1|        8.5|  0.5|    0.5|      1.96|         0.0|                  0.3|       11.76|                 0.0|       null|\n",
      "|       1| 2021-02-01 07:09:22|  2021-02-01 07:53:48|            1.0|         26.6|       1.0|                 N|         132|         200|           1|       69.0|  0.5|    0.5|       0.0|        6.12|                  0.3|       76.42|                 0.0|       null|\n",
      "|       2| 2021-02-01 07:52:15|  2021-02-01 08:16:24|            4.0|         6.07|       1.0|                 N|         249|         181|           1|       21.0|  0.5|    0.5|       6.2|         0.0|                  0.3|        31.0|                 2.5|       null|\n",
      "|       1| 2021-02-01 07:08:29|  2021-02-01 07:21:22|            1.0|          2.0|       1.0|                 N|          79|         246|           1|        9.0|  3.0|    0.5|       3.2|         0.0|                  0.3|        16.0|                 2.5|       null|\n",
      "|       1| 2021-02-01 07:28:13|  2021-02-01 07:31:40|            1.0|          0.8|       1.0|                 Y|          75|          74|           2|        5.0|  0.5|    0.5|       0.0|         0.0|                  0.3|         6.3|                 0.0|       null|\n",
      "+--------+--------------------+---------------------+---------------+-------------+----------+------------------+------------+------------+------------+-----------+-----+-------+----------+------------+---------------------+------------+--------------------+-----------+\n",
      "only showing top 10 rows\n",
      "\n"
     ]
    }
   ],
   "source": [
    "df_yellow.show(10)"
   ]
  },
  {
   "cell_type": "code",
   "execution_count": 10,
   "metadata": {},
   "outputs": [
    {
     "name": "stdout",
     "output_type": "stream",
     "text": [
      "+--------+--------------------+---------------------+------------------+----------+------------+------------+---------------+-------------+-----------+-----+-------+----------+------------+---------+---------------------+------------+------------+---------+--------------------+\n",
      "|VendorID|lpep_pickup_datetime|lpep_dropoff_datetime|store_and_fwd_flag|RatecodeID|PULocationID|DOLocationID|passenger_count|trip_distance|fare_amount|extra|mta_tax|tip_amount|tolls_amount|ehail_fee|improvement_surcharge|total_amount|payment_type|trip_type|congestion_surcharge|\n",
      "+--------+--------------------+---------------------+------------------+----------+------------+------------+---------------+-------------+-----------+-----+-------+----------+------------+---------+---------------------+------------+------------+---------+--------------------+\n",
      "|       2| 2021-02-01 07:34:03|  2021-02-01 07:51:58|                 N|       1.0|         130|         205|            5.0|         3.66|       14.0|  0.5|    0.5|      10.0|         0.0|     null|                  0.3|        25.3|         1.0|      1.0|                 0.0|\n",
      "|       2| 2021-02-01 07:04:00|  2021-02-01 07:10:30|                 N|       1.0|         152|         244|            1.0|          1.1|        6.5|  0.5|    0.5|       0.0|         0.0|     null|                  0.3|         7.8|         2.0|      1.0|                 0.0|\n",
      "|       2| 2021-02-01 07:18:51|  2021-02-01 07:34:06|                 N|       1.0|         152|          48|            1.0|         4.93|       16.5|  0.5|    0.5|       0.0|         0.0|     null|                  0.3|       20.55|         2.0|      1.0|                2.75|\n",
      "|       2| 2021-02-01 07:53:27|  2021-02-01 08:11:41|                 N|       1.0|         152|         241|            1.0|          6.7|       21.0|  0.5|    0.5|       0.0|         0.0|     null|                  0.3|        22.3|         2.0|      1.0|                 0.0|\n",
      "|       2| 2021-02-01 07:57:46|  2021-02-01 08:06:44|                 N|       1.0|          75|          42|            1.0|         1.89|        8.5|  0.5|    0.5|      2.45|         0.0|     null|                  0.3|       12.25|         1.0|      1.0|                 0.0|\n",
      "|       2| 2021-02-01 07:33:03|  2021-02-01 07:40:54|                 N|       5.0|         197|         219|            1.0|          3.3|       15.0|  0.0|    0.0|      0.76|         0.0|     null|                  0.3|       16.06|         1.0|      2.0|                 0.0|\n",
      "|       2| 2021-02-01 07:18:43|  2021-02-01 07:28:25|                 N|       1.0|          82|         223|            1.0|         2.51|       10.0|  0.5|    0.5|       1.5|         0.0|     null|                  0.3|        12.8|         1.0|      1.0|                 0.0|\n",
      "|       2| 2021-02-01 07:06:50|  2021-02-01 07:18:07|                 N|       1.0|         130|         130|            1.0|         1.68|        9.0|  0.5|    0.5|      5.08|         0.0|     null|                  0.3|       15.38|         1.0|      1.0|                 0.0|\n",
      "|       2| 2021-02-01 08:25:20|  2021-02-01 08:34:04|                 N|       1.0|          94|         241|            1.0|         1.44|        7.5|  0.5|    0.5|       0.0|         0.0|     null|                  0.3|         8.8|         2.0|      1.0|                 0.0|\n",
      "|       2| 2021-02-01 09:56:55|  2021-02-01 09:58:38|                 N|       5.0|          78|          78|            1.0|          0.0|       24.0|  0.0|    0.0|       0.0|         0.0|     null|                  0.3|        24.3|         2.0|      2.0|                 0.0|\n",
      "+--------+--------------------+---------------------+------------------+----------+------------+------------+---------------+-------------+-----------+-----+-------+----------+------------+---------+---------------------+------------+------------+---------+--------------------+\n",
      "only showing top 10 rows\n",
      "\n"
     ]
    }
   ],
   "source": [
    "df_green.show(10)"
   ]
  },
  {
   "cell_type": "code",
   "execution_count": 11,
   "metadata": {},
   "outputs": [
    {
     "name": "stdout",
     "output_type": "stream",
     "text": [
      "+-----------------+--------------------+--------------------+-------------------+-------------------+-------------------+-------------------+------------+------------+----------+---------+-------------------+-----+----+---------+--------------------+-----------+----+----------+-------------------+-----------------+------------------+----------------+--------------+\n",
      "|hvfhs_license_num|dispatching_base_num|originating_base_num|   request_datetime|  on_scene_datetime|    pickup_datetime|   dropoff_datetime|PULocationID|DOLocationID|trip_miles|trip_time|base_passenger_fare|tolls| bcf|sales_tax|congestion_surcharge|airport_fee|tips|driver_pay|shared_request_flag|shared_match_flag|access_a_ride_flag|wav_request_flag|wav_match_flag|\n",
      "+-----------------+--------------------+--------------------+-------------------+-------------------+-------------------+-------------------+------------+------------+----------+---------+-------------------+-----+----+---------+--------------------+-----------+----+----------+-------------------+-----------------+------------------+----------------+--------------+\n",
      "|           HV0003|              B02764|              B02764|2021-02-01 06:59:00|2021-02-01 07:10:19|2021-02-01 07:10:40|2021-02-01 07:21:09|          35|          39|      2.06|      629|              17.14|  0.0|0.51|     1.52|                 0.0|       null| 0.0|      9.79|                  N|                N|                  |               N|             N|\n",
      "|           HV0003|              B02764|              B02764|2021-02-01 07:13:35|2021-02-01 07:25:23|2021-02-01 07:27:23|2021-02-01 07:44:01|          39|          35|      3.15|      998|              32.11|  0.0|0.96|     2.85|                 0.0|       null| 0.0|     24.01|                  N|                N|                  |               N|             N|\n",
      "|           HV0005|              B02510|                null|2021-02-01 07:12:55|               null|2021-02-01 07:28:38|2021-02-01 07:38:27|          39|          91|     1.776|      589|              12.67|  0.0|0.38|     1.12|                 0.0|       null| 0.0|      6.91|                  N|                N|                 N|               N|             N|\n",
      "|           HV0005|              B02510|                null|2021-02-01 07:36:01|               null|2021-02-01 07:43:37|2021-02-01 08:23:20|          91|         228|    13.599|     2383|              37.82|  0.0|0.98|     2.91|                 0.0|       null| 7.0|     35.05|                  N|                N|                 N|               N|             N|\n",
      "|           HV0003|              B02872|              B02872|2021-02-01 06:57:50|2021-02-01 07:08:25|2021-02-01 07:08:42|2021-02-01 07:17:57|         126|         250|      2.62|      555|              15.56|  0.0|0.47|     1.38|                 0.0|       null| 0.0|      8.53|                  N|                N|                  |               N|             N|\n",
      "|           HV0003|              B02872|              B02872|2021-02-01 07:11:48|2021-02-01 07:24:25|2021-02-01 07:26:02|2021-02-01 07:42:51|         208|         243|      6.89|     1009|              19.98|  0.0| 0.6|     1.77|                 0.0|       null| 0.0|     16.05|                  N|                N|                  |               N|             N|\n",
      "|           HV0003|              B02872|              B02872|2021-02-01 07:39:45|2021-02-01 07:44:57|2021-02-01 07:45:50|2021-02-01 08:02:50|         243|         220|      4.26|     1020|              42.36|  0.0|1.27|     3.76|                 0.0|       null| 0.0|     25.42|                  N|                N|                  |               N|             N|\n",
      "|           HV0003|              B02764|              B02764|2021-02-01 06:55:59|2021-02-01 07:04:42|2021-02-01 07:06:42|2021-02-01 07:31:50|          49|          37|      2.95|     1508|              25.29|  0.0|0.81|      2.4|                 0.0|       null| 0.0|     22.29|                  N|                N|                  |               N|             N|\n",
      "|           HV0003|              B02764|              B02764|2021-02-01 07:27:54|2021-02-01 07:33:12|2021-02-01 07:34:34|2021-02-01 07:58:13|          37|          76|      3.41|     1419|               22.9|  0.0|0.69|     2.03|                 0.0|       null| 0.0|     23.77|                  N|                N|                  |               N|             N|\n",
      "|           HV0005|              B02510|                null|2021-02-01 06:56:04|               null|2021-02-01 07:03:43|2021-02-01 07:39:37|          80|         241|    15.998|     2154|              45.17| 4.88| 1.5|     4.44|                 0.0|       null| 0.0|      35.8|                  N|                N|                 N|               N|             N|\n",
      "+-----------------+--------------------+--------------------+-------------------+-------------------+-------------------+-------------------+------------+------------+----------+---------+-------------------+-----+----+---------+--------------------+-----------+----+----------+-------------------+-----------------+------------------+----------------+--------------+\n",
      "only showing top 10 rows\n",
      "\n"
     ]
    }
   ],
   "source": [
    "df_fhvhv.show(10)"
   ]
  },
  {
   "attachments": {},
   "cell_type": "markdown",
   "metadata": {},
   "source": [
    "# How many taxi trips were there on February 15?"
   ]
  },
  {
   "cell_type": "code",
   "execution_count": 12,
   "metadata": {},
   "outputs": [
    {
     "name": "stdout",
     "output_type": "stream",
     "text": [
      "There were 43686 Yellow Taxi Trips on February 15.\n",
      "There were 1811 Green Taxi Trips on February 15.\n",
      "There were 425928 Fhvhc Trips on February 15.\n"
     ]
    }
   ],
   "source": [
    "yellow_trip = df_yellow.filter(col(\"tpep_pickup_datetime\").like(\"2021-02-15%\"))\n",
    "yell_count = yellow_trip.count()\n",
    "\n",
    "green_trip = df_green.filter(col(\"lpep_pickup_datetime\").like(\"2021-02-15%\"))\n",
    "green_count = green_trip.count()\n",
    "\n",
    "fhvhc_trip = df_fhvhv.filter(col(\"pickup_datetime\").like(\"2021-02-15%\"))\n",
    "fhvhc_count = fhvhc_trip.count()\n",
    "\n",
    "print(\"There were\", yell_count, \"Yellow Taxi Trips on February 15.\")\n",
    "print(\"There were\", green_count, \"Green Taxi Trips on February 15.\")\n",
    "print(\"There were\", fhvhc_count, \"Fhvhc Trips on February 15.\")"
   ]
  },
  {
   "attachments": {},
   "cell_type": "markdown",
   "metadata": {},
   "source": [
    "# The longest trip for each day?"
   ]
  },
  {
   "cell_type": "code",
   "execution_count": 13,
   "metadata": {},
   "outputs": [
    {
     "name": "stdout",
     "output_type": "stream",
     "text": [
      "+----------+------------+\n",
      "|      date|longest_trip|\n",
      "+----------+------------+\n",
      "|2009-01-01|        2.89|\n",
      "|2009-01-02|        0.84|\n",
      "|2021-02-01|       38.89|\n",
      "|2021-02-02|       73.24|\n",
      "|2021-02-03|   186079.73|\n",
      "|2021-02-04|       82.19|\n",
      "|2021-02-05|    91134.16|\n",
      "|2021-02-06|       48.35|\n",
      "|2021-02-07|   186510.67|\n",
      "|2021-02-08|   186617.92|\n",
      "|2021-02-09|    89416.24|\n",
      "|2021-02-10|       99.96|\n",
      "|2021-02-11|        54.4|\n",
      "|2021-02-12|    34346.07|\n",
      "|2021-02-13|    54381.65|\n",
      "|2021-02-14|   115928.92|\n",
      "|2021-02-15|       52.89|\n",
      "|2021-02-16|   221188.25|\n",
      "|2021-02-17|   140145.44|\n",
      "|2021-02-18|       900.0|\n",
      "+----------+------------+\n",
      "only showing top 20 rows\n",
      "\n"
     ]
    }
   ],
   "source": [
    "yellow_longest = (\n",
    "    df_yellow.withColumn(\"date\", col(\"tpep_pickup_datetime\").substr(1, 10))\n",
    "    .groupBy(col(\"date\"))\n",
    "    .agg(max(col(\"trip_distance\")).alias(\"longest_trip\"))\n",
    "    .orderBy(col(\"date\"))\n",
    ")\n",
    "\n",
    "yellow_longest.show()"
   ]
  },
  {
   "cell_type": "code",
   "execution_count": 14,
   "metadata": {},
   "outputs": [
    {
     "name": "stdout",
     "output_type": "stream",
     "text": [
      "+----------+------------+\n",
      "|      date|longest_trip|\n",
      "+----------+------------+\n",
      "|2009-01-01|         0.0|\n",
      "|2021-02-01|       27.52|\n",
      "|2021-02-02|        48.1|\n",
      "|2021-02-03|       36.33|\n",
      "|2021-02-04|   102620.98|\n",
      "|2021-02-05|       36.37|\n",
      "|2021-02-06|       38.75|\n",
      "|2021-02-07|        90.0|\n",
      "|2021-02-08|      5634.0|\n",
      "|2021-02-09|       34.64|\n",
      "|2021-02-10|     60382.7|\n",
      "|2021-02-11|    43174.56|\n",
      "|2021-02-12|    66659.27|\n",
      "|2021-02-13|       47.79|\n",
      "|2021-02-14|       58.03|\n",
      "|2021-02-15|       44.04|\n",
      "|2021-02-16|    16191.56|\n",
      "|2021-02-17|    16240.75|\n",
      "|2021-02-18|    29501.25|\n",
      "|2021-02-19|       34.95|\n",
      "+----------+------------+\n",
      "only showing top 20 rows\n",
      "\n"
     ]
    }
   ],
   "source": [
    "green_longest = (\n",
    "    df_green.withColumn(\"date\", col(\"lpep_pickup_datetime\").substr(1, 10))\n",
    "    .groupBy(col(\"date\"))\n",
    "    .agg(max(col(\"trip_distance\")).alias(\"longest_trip\"))\n",
    "    .orderBy(col(\"date\"))\n",
    ")\n",
    "\n",
    "green_longest.show()"
   ]
  },
  {
   "cell_type": "code",
   "execution_count": 15,
   "metadata": {},
   "outputs": [
    {
     "name": "stdout",
     "output_type": "stream",
     "text": [
      "+----------+------------+\n",
      "|      date|longest_trip|\n",
      "+----------+------------+\n",
      "|2021-02-01|      212.43|\n",
      "|2021-02-02|      282.78|\n",
      "|2021-02-03|      184.26|\n",
      "|2021-02-04|      203.97|\n",
      "|2021-02-05|      245.35|\n",
      "|2021-02-06|      275.32|\n",
      "|2021-02-07|      216.36|\n",
      "|2021-02-08|       253.5|\n",
      "|2021-02-09|      480.73|\n",
      "|2021-02-10|       512.5|\n",
      "|2021-02-11|      240.66|\n",
      "|2021-02-12|      250.11|\n",
      "|2021-02-13|      226.24|\n",
      "|2021-02-14|      207.44|\n",
      "|2021-02-15|     173.582|\n",
      "|2021-02-16|     307.661|\n",
      "|2021-02-17|      324.19|\n",
      "|2021-02-18|      527.11|\n",
      "|2021-02-19|      224.33|\n",
      "|2021-02-20|      329.16|\n",
      "+----------+------------+\n",
      "only showing top 20 rows\n",
      "\n"
     ]
    }
   ],
   "source": [
    "fhvhv_longest = (\n",
    "    df_fhvhv.withColumn(\"date\", col(\"pickup_datetime\").substr(1, 10))\n",
    "    .groupBy(col(\"date\"))\n",
    "    .agg(max(col(\"trip_miles\")).alias(\"longest_trip\"))\n",
    "    .orderBy(col(\"date\"))\n",
    ")\n",
    "\n",
    "fhvhv_longest.show()"
   ]
  },
  {
   "attachments": {},
   "cell_type": "markdown",
   "metadata": {},
   "source": [
    "# Top 5 Most frequent dispatching_base_num"
   ]
  },
  {
   "cell_type": "code",
   "execution_count": 16,
   "metadata": {},
   "outputs": [
    {
     "name": "stderr",
     "output_type": "stream",
     "text": [
      "c:\\Users\\ACER\\AppData\\Local\\Programs\\Python\\Python310\\lib\\site-packages\\pyspark\\sql\\dataframe.py:229: FutureWarning: Deprecated in 2.0, use createOrReplaceTempView instead.\n",
      "  warnings.warn(\"Deprecated in 2.0, use createOrReplaceTempView instead.\", FutureWarning)\n"
     ]
    }
   ],
   "source": [
    "df_fhvhv.registerTempTable('fhvhv')"
   ]
  },
  {
   "cell_type": "code",
   "execution_count": 17,
   "metadata": {},
   "outputs": [
    {
     "name": "stdout",
     "output_type": "stream",
     "text": [
      "+--------------------+--------+\n",
      "|dispatching_base_num|trip_day|\n",
      "+--------------------+--------+\n",
      "|              B02510| 3233664|\n",
      "|              B02764|  965568|\n",
      "|              B02872|  882689|\n",
      "|              B02875|  685390|\n",
      "|              B02765|  559768|\n",
      "+--------------------+--------+\n",
      "\n"
     ]
    }
   ],
   "source": [
    "top5_disp_bases = spark.sql(\"SELECT \\\n",
    "                            dispatching_base_num, count(*) as trip_day \\\n",
    "                            FROM fhvhv \\\n",
    "                            group by dispatching_base_num \\\n",
    "                            order by count(*) desc limit 5\")\n",
    "top5_disp_bases.show()"
   ]
  },
  {
   "attachments": {},
   "cell_type": "markdown",
   "metadata": {},
   "source": [
    "# Top 5 Most common location pairs (PUlocationID and DOlocationID)"
   ]
  },
  {
   "cell_type": "code",
   "execution_count": 18,
   "metadata": {},
   "outputs": [
    {
     "name": "stdout",
     "output_type": "stream",
     "text": [
      "+------------+------------+-----+\n",
      "|PULocationID|DOLocationID|count|\n",
      "+------------+------------+-----+\n",
      "|         237|         236|11455|\n",
      "|         236|         237| 9901|\n",
      "|         236|         236| 8819|\n",
      "|         237|         237| 7324|\n",
      "|         264|         264| 5732|\n",
      "+------------+------------+-----+\n",
      "only showing top 5 rows\n",
      "\n"
     ]
    }
   ],
   "source": [
    "yell_top_loc = (\n",
    "    df_yellow.groupBy(col(\"PULocationID\"), col(\"DOLocationID\")).count()\n",
    "    .orderBy(col(\"count\").desc())\n",
    ")\n",
    "\n",
    "yell_top_loc.show(5)"
   ]
  },
  {
   "cell_type": "code",
   "execution_count": 19,
   "metadata": {},
   "outputs": [
    {
     "name": "stdout",
     "output_type": "stream",
     "text": [
      "+------------+------------+-----+\n",
      "|PULocationID|DOLocationID|count|\n",
      "+------------+------------+-----+\n",
      "|          74|          75|  994|\n",
      "|          75|          74|  949|\n",
      "|          74|          74|  651|\n",
      "|          41|          42|  535|\n",
      "|          74|          42|  497|\n",
      "+------------+------------+-----+\n",
      "only showing top 5 rows\n",
      "\n"
     ]
    }
   ],
   "source": [
    "green_top_loc = (\n",
    "    df_green.groupBy(col(\"PULocationID\"), col(\"DOLocationID\")).count()\n",
    "    .orderBy(col(\"count\").desc())\n",
    ")\n",
    "\n",
    "green_top_loc.show(5)"
   ]
  },
  {
   "cell_type": "code",
   "execution_count": 20,
   "metadata": {},
   "outputs": [
    {
     "name": "stdout",
     "output_type": "stream",
     "text": [
      "+------------+------------+-----+\n",
      "|PULocationID|DOLocationID|count|\n",
      "+------------+------------+-----+\n",
      "|          76|          76|45041|\n",
      "|          26|          26|37329|\n",
      "|          39|          39|28026|\n",
      "|          61|          61|25976|\n",
      "|          14|          14|17934|\n",
      "+------------+------------+-----+\n",
      "only showing top 5 rows\n",
      "\n"
     ]
    }
   ],
   "source": [
    "fhvhc_top_loc = (\n",
    "    df_fhvhv.groupBy(col(\"PULocationID\"), col(\"DOLocationID\")).count()\n",
    "    .orderBy(col(\"count\").desc())\n",
    ")\n",
    "\n",
    "fhvhc_top_loc.show(5)"
   ]
  }
 ],
 "metadata": {
  "kernelspec": {
   "display_name": "Python 3",
   "language": "python",
   "name": "python3"
  },
  "language_info": {
   "codemirror_mode": {
    "name": "ipython",
    "version": 3
   },
   "file_extension": ".py",
   "mimetype": "text/x-python",
   "name": "python",
   "nbconvert_exporter": "python",
   "pygments_lexer": "ipython3",
   "version": "3.10.6"
  },
  "orig_nbformat": 4
 },
 "nbformat": 4,
 "nbformat_minor": 2
}
